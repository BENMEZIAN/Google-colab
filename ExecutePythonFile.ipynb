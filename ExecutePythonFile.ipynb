{
  "nbformat": 4,
  "nbformat_minor": 0,
  "metadata": {
    "colab": {
      "provenance": [],
      "authorship_tag": "ABX9TyMGK1YoSz9DaYQFGBPKNrNh",
      "include_colab_link": true
    },
    "kernelspec": {
      "name": "python3",
      "display_name": "Python 3"
    },
    "language_info": {
      "name": "python"
    }
  },
  "cells": [
    {
      "cell_type": "markdown",
      "metadata": {
        "id": "view-in-github",
        "colab_type": "text"
      },
      "source": [
        "<a href=\"https://colab.research.google.com/github/BENMEZIAN/Google-colab/blob/main/ExecutePythonFile.ipynb\" target=\"_parent\"><img src=\"https://colab.research.google.com/assets/colab-badge.svg\" alt=\"Open In Colab\"/></a>"
      ]
    },
    {
      "cell_type": "code",
      "execution_count": null,
      "metadata": {
        "id": "w9f-b-xZi_P-"
      },
      "outputs": [],
      "source": []
    },
    {
      "cell_type": "markdown",
      "source": [
        "# **Execute external python file**"
      ],
      "metadata": {
        "id": "uPe28yJKjFzW"
      }
    },
    {
      "cell_type": "markdown",
      "source": [
        "**First approach :** Create python file"
      ],
      "metadata": {
        "id": "jN_JTdWFjxl_"
      }
    },
    {
      "cell_type": "code",
      "source": [
        "%%writefile test.py\n",
        "print(\"Hello google colab\")\n",
        "var = 2\n",
        "print(a)"
      ],
      "metadata": {
        "colab": {
          "base_uri": "https://localhost:8080/"
        },
        "id": "_1xQfphojOes",
        "outputId": "d77aeb09-115e-4883-b508-ea61c8803dda"
      },
      "execution_count": 1,
      "outputs": [
        {
          "output_type": "stream",
          "name": "stdout",
          "text": [
            "Writing test.py\n"
          ]
        }
      ]
    },
    {
      "cell_type": "markdown",
      "source": [
        "Execute python file"
      ],
      "metadata": {
        "id": "BqYLEMQlj4TH"
      }
    },
    {
      "cell_type": "code",
      "source": [
        "!python test.py"
      ],
      "metadata": {
        "colab": {
          "base_uri": "https://localhost:8080/"
        },
        "id": "j9rCPqNyj8Xs",
        "outputId": "2cbd0226-1885-4cf8-e137-2eec9bf39884"
      },
      "execution_count": 4,
      "outputs": [
        {
          "output_type": "stream",
          "name": "stdout",
          "text": [
            "Hello google colab\n",
            "2\n"
          ]
        }
      ]
    },
    {
      "cell_type": "markdown",
      "source": [
        "**Second approach :** import from google drive"
      ],
      "metadata": {
        "id": "7FYkuC2AlHta"
      }
    },
    {
      "cell_type": "code",
      "source": [
        "from google.colab import drive\n",
        "drive.mount('/content/drive')"
      ],
      "metadata": {
        "colab": {
          "base_uri": "https://localhost:8080/"
        },
        "id": "0LCAeZojlevN",
        "outputId": "343e2b5c-c6dc-4964-e61b-dc2581340e4d"
      },
      "execution_count": 5,
      "outputs": [
        {
          "output_type": "stream",
          "name": "stdout",
          "text": [
            "Mounted at /content/drive\n"
          ]
        }
      ]
    },
    {
      "cell_type": "markdown",
      "source": [],
      "metadata": {
        "id": "QNMyDbunnBCx"
      }
    },
    {
      "cell_type": "code",
      "source": [
        "!python '/content/drive/MyDrive/Colab Notebooks/FirstColabNotebook.ipynb'"
      ],
      "metadata": {
        "id": "GeD3V1BZmvG4"
      },
      "execution_count": 8,
      "outputs": []
    },
    {
      "cell_type": "markdown",
      "source": [],
      "metadata": {
        "id": "HG4nhiBmleZt"
      }
    },
    {
      "cell_type": "markdown",
      "source": [],
      "metadata": {
        "id": "awUEEn1kjwpQ"
      }
    }
  ]
}