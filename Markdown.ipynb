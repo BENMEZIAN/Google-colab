{
  "nbformat": 4,
  "nbformat_minor": 0,
  "metadata": {
    "colab": {
      "provenance": []
    },
    "kernelspec": {
      "name": "python3",
      "display_name": "Python 3"
    },
    "language_info": {
      "name": "python"
    }
  },
  "cells": [
    {
      "cell_type": "code",
      "execution_count": null,
      "metadata": {
        "id": "MzoBh4oWsO_Q"
      },
      "outputs": [],
      "source": []
    },
    {
      "cell_type": "markdown",
      "source": [
        "# This *is* **heading**"
      ],
      "metadata": {
        "id": "BK0EdArzs8Zv"
      }
    },
    {
      "cell_type": "markdown",
      "source": [
        "\n",
        "\n",
        "```\n",
        "# For loop syntax in python\n",
        "for item in arr:\n",
        "    print(item)\n",
        "```\n",
        "\n"
      ],
      "metadata": {
        "id": "XwisOlaytLGx"
      }
    },
    {
      "cell_type": "markdown",
      "source": [
        "1.   First\n",
        "2.   Second\n",
        "3.   Third\n",
        "4.   Fourth\n"
      ],
      "metadata": {
        "id": "ArjEnzHTt9V4"
      }
    },
    {
      "cell_type": "markdown",
      "source": [
        "[Google search](https://www.google.com)"
      ],
      "metadata": {
        "id": "N9fmIbPMuSix"
      }
    },
    {
      "cell_type": "markdown",
      "source": [
        "I'm at the incubator\n",
        "\n",
        "> I'm currently working\n",
        "\n",
        "Good thing"
      ],
      "metadata": {
        "id": "vmwlll-NzWuD"
      }
    },
    {
      "cell_type": "markdown",
      "source": [
        "$ x^2 + x^3 + 2 $"
      ],
      "metadata": {
        "id": "S3WpbBTUzo-P"
      }
    },
    {
      "cell_type": "markdown",
      "source": [
        "$$x1 = \\frac{-b+\\sqrt{delta}}{4ac}$$\n",
        "$$x2 = \\frac{b+\\sqrt{delta}}{4ac}$$"
      ],
      "metadata": {
        "id": "mLQ-qZqWz6y7"
      }
    }
  ]
}