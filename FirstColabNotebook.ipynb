{
  "nbformat": 4,
  "nbformat_minor": 0,
  "metadata": {
    "colab": {
      "provenance": []
    },
    "kernelspec": {
      "name": "python3",
      "display_name": "Python 3"
    },
    "language_info": {
      "name": "python"
    }
  },
  "cells": [
    {
      "cell_type": "markdown",
      "source": [
        "**C'est mon premier programme sue google colab**"
      ],
      "metadata": {
        "id": "pXJx0PWK7mop"
      }
    },
    {
      "cell_type": "code",
      "source": [
        "print(\"hello world\")"
      ],
      "metadata": {
        "colab": {
          "base_uri": "https://localhost:8080/"
        },
        "id": "Z9ODWury77DY",
        "outputId": "c5e895d4-751e-44ba-dded-18571e4ea137"
      },
      "execution_count": 2,
      "outputs": [
        {
          "output_type": "stream",
          "name": "stdout",
          "text": [
            "hello world\n"
          ]
        }
      ]
    },
    {
      "cell_type": "markdown",
      "source": [
        "# Je suis à l'incubateur ICOSNET"
      ],
      "metadata": {
        "id": "LT8BYrXq8CoQ"
      }
    },
    {
      "cell_type": "code",
      "source": [
        "print(5+3)"
      ],
      "metadata": {
        "colab": {
          "base_uri": "https://localhost:8080/"
        },
        "id": "NePBzgdC8RwD",
        "outputId": "20255609-1178-4940-fc2c-3c684acb111e"
      },
      "execution_count": 3,
      "outputs": [
        {
          "output_type": "stream",
          "name": "stdout",
          "text": [
            "8\n"
          ]
        }
      ]
    },
    {
      "cell_type": "code",
      "source": [
        "for i in range(10):\n",
        "  print(i)"
      ],
      "metadata": {
        "colab": {
          "base_uri": "https://localhost:8080/"
        },
        "id": "OO2QccA78tTP",
        "outputId": "028fc53f-f914-4b3d-c9ec-449040b770cc"
      },
      "execution_count": 4,
      "outputs": [
        {
          "output_type": "stream",
          "name": "stdout",
          "text": [
            "0\n",
            "1\n",
            "2\n",
            "3\n",
            "4\n",
            "5\n",
            "6\n",
            "7\n",
            "8\n",
            "9\n"
          ]
        }
      ]
    },
    {
      "cell_type": "code",
      "source": [
        "array = [\"Amit\",\"Vrushali\",\"Deepali\",\"Kumar\",\"Manish\",\"Dhanokar\"]\n",
        "\n",
        "for x in array:\n",
        "  print(x)"
      ],
      "metadata": {
        "colab": {
          "base_uri": "https://localhost:8080/"
        },
        "id": "Mu7Ix5Pd9JLi",
        "outputId": "962193ac-a7b5-4614-f4ed-a319fcf0a1d0"
      },
      "execution_count": 5,
      "outputs": [
        {
          "output_type": "stream",
          "name": "stdout",
          "text": [
            "Amit\n",
            "Vrushali\n",
            "Deepali\n",
            "Kumar\n",
            "Manish\n",
            "Dhanokar\n"
          ]
        }
      ]
    },
    {
      "cell_type": "markdown",
      "source": [
        "# Thanks for all **google colaboratory**"
      ],
      "metadata": {
        "id": "HKojf9t3-QaR"
      }
    }
  ]
}